{
 "cells": [
  {
   "cell_type": "markdown",
   "metadata": {},
   "source": [
    "<h1>Overview</h1><br/>\n",
    "Your team studies the comparative neuron electrophysiology. Your group has until <b>11:25</b> to design and implement a MongoDB database to store the electrophysiology data, to populate the database, and to write functions to display the results of certain queries. Collaborate with your team using GitHub. At the end of class, your team will give a 10 minute presentation discussing the problem, your solution, and any interesting challenges you encountered.<br/><br/>\n",
    "<i>Asking your teammates and the instructors questions is expected and encouraged.</i>"
   ]
  },
  {
   "cell_type": "markdown",
   "metadata": {},
   "source": [
    "<h1>Getting started</h1><br/>Examine the data at <a href=\"http://neuroelectro.org/static/src/article_ephys_metadata_curated.csv\">http://neuroelectro.org/static/src/article_ephys_metadata_curated.csv</a> in your favorite spreadsheet program. <b>Before opening the data file, rename it to a .tsv</b>; it is a tab separated file not a comma separated file. It contains neuron electrophysiology data from <a href=\"http://neuroelectro.org\">NeuroElectro.Org</a>; this data was originally published across many papers. An explanation of the meaning of each column is available in <a href=\"neuroelectro_spreadsheet_descriptors.xlsx\">neuroelectro_spreadsheet_descriptors.xlsx</a>. Note the explanatory spreadsheet has two sheets.<br/><br/>\n",
    "Now that you have looked at this data: write code to store it in a MongoDB database."
   ]
  },
  {
   "cell_type": "markdown",
   "metadata": {},
   "source": [
    "<h1>Data analysis</h1><br/>\n",
    "Write and test functions to:"
   ]
  },
  {
   "cell_type": "markdown",
   "metadata": {},
   "source": [
    "(1) return a dictionary whose keys are the entries from NeuronName and whose values are the types of data known for that neuron type. (e.g. there are many columns, but not all of them have values for each neuron type.)"
   ]
  },
  {
   "cell_type": "markdown",
   "metadata": {},
   "source": [
    "(2) plot a bar chart (see <a href=\"http://matplotlib.org/examples/api/barchart_demo.html\">here</a> for an example) comparing the number of entries for each NeuronName."
   ]
  },
  {
   "cell_type": "markdown",
   "metadata": {},
   "source": [
    "(3) take a NeuronName. Print a formatted table showing the weighted average value for each numeric property type."
   ]
  },
  {
   "cell_type": "markdown",
   "metadata": {},
   "source": [
    "(4) take a NeuronName and two numeric column headings (e.g. rin and rheo), produce a scatter plot (see code examples <a href=\"https://plot.ly/matplotlib/scatter/\">here</a)> showing the corresponding values for the corresponding neuron."
   ]
  },
  {
   "cell_type": "markdown",
   "metadata": {},
   "source": [
    "(5) take a species (e.g. Rats), a numeric data column (e.g. rheo), and a minimum and maximum value, find all the matching NeuronNames."
   ]
  },
  {
   "cell_type": "markdown",
   "metadata": {},
   "source": [
    "(6) provide any additional analysis or visualization information you think would be helpful."
   ]
  },
  {
   "cell_type": "markdown",
   "metadata": {},
   "source": [
    "<h1>Things to consider</h1><br/>\n",
    "<ol>\n",
    "<li>In most rows, many columns are empty. How are you going to deal with that?</li>\n",
    "<li>Each property is split into multiple columns. e.g. rheo, rheo_raw, rheo_err, rheo_n, rheo_sd, and rheo_note.</li>\n",
    "<li>Not every property that has a value has an n associated with it. How are you going to treat those data items when computing the average values?</li>\n",
    "</ol>"
   ]
  },
  {
   "cell_type": "code",
   "execution_count": null,
   "metadata": {
    "collapsed": true
   },
   "outputs": [],
   "source": []
  }
 ],
 "metadata": {
  "anaconda-cloud": {},
  "kernelspec": {
   "display_name": "Python [default]",
   "language": "python",
   "name": "python2"
  },
  "language_info": {
   "codemirror_mode": {
    "name": "ipython",
    "version": 2
   },
   "file_extension": ".py",
   "mimetype": "text/x-python",
   "name": "python",
   "nbconvert_exporter": "python",
   "pygments_lexer": "ipython2",
   "version": "2.7.12"
  }
 },
 "nbformat": 4,
 "nbformat_minor": 1
}
